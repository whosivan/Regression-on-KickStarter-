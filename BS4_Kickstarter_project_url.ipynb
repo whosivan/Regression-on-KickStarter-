{
 "cells": [
  {
   "cell_type": "code",
   "execution_count": 38,
   "metadata": {
    "collapsed": true
   },
   "outputs": [],
   "source": [
    "import os\n",
    "import sys\n",
    "import requests\n",
    "import time\n",
    "import pandas as pd\n",
    "import numpy as np\n",
    "import re\n",
    "import csv\n",
    "from bs4 import BeautifulSoup\n",
    "from fake_useragent import UserAgent\n",
    "from selenium import webdriver\n",
    "from selenium.webdriver.common.keys import Keys"
   ]
  },
  {
   "cell_type": "code",
   "execution_count": 6,
   "metadata": {
    "collapsed": true
   },
   "outputs": [],
   "source": [
    "def get_url_list(url, start_page_number, page_number):\n",
    "    \"\"\"provide initial url to get the list of all pages\"\"\"\n",
    "\n",
    "    url_list = []\n",
    "    for page_num in np.arange(start_page_number, page_number):\n",
    "        temp = url.rsplit('=', 1)[0] + '=' + str(page_num)\n",
    "        url_list.append(temp)\n",
    "   \n",
    "    return url_list"
   ]
  },
  {
   "cell_type": "code",
   "execution_count": 7,
   "metadata": {
    "collapsed": true
   },
   "outputs": [],
   "source": [
    "def get_data(url_list):\n",
    "    \"\"\"Use regex matched keys to scrap all project links, parse into a list of project urls\"\"\"\n",
    "    final_url_list = []\n",
    "    link_pattern = re.compile(\"https://www.kickstarter.com/projects/[\\d|a-z|\\-]*/[\\d|a-z|\\-]*\")\n",
    "    \n",
    "    for url in url_list:\n",
    "        response = requests.get(url)\n",
    "        page = str(response.text)\n",
    "        possible_links = re.findall(link_pattern, page)\n",
    "        final_url_list += list(set(possible_links))\n",
    "        \n",
    "        time.sleep(1)\n",
    "    return final_url_list"
   ]
  },
  {
   "cell_type": "code",
   "execution_count": 33,
   "metadata": {
    "collapsed": true
   },
   "outputs": [],
   "source": [
    "category_dict = {\n",
    "            'art':'https://www.kickstarter.com/discover/advanced?category_id=1&sort=newest&seed=2528058&page=1',\n",
    "            'comics':'https://www.kickstarter.com/discover/advanced?category_id=3&sort=newest&seed=2528058&page=1',\n",
    "            'crafts':'https://www.kickstarter.com/discover/advanced?category_id=26&sort=newest&seed=2528058&page=1',\n",
    "            'dance':'https://www.kickstarter.com/discover/advanced?category_id=6&sort=newest&seed=2528058&page=1',\n",
    "            'design':'https://www.kickstarter.com/discover/advanced?category_id=7&sort=newest&seed=2528058&page=1',\n",
    "            'fashion':'https://www.kickstarter.com/discover/advanced?category_id=9&sort=newest&seed=2528058&page=1',\n",
    "            'filmvideo':'https://www.kickstarter.com/discover/advanced?category_id=11&sort=newest&seed=2528058&page=1',\n",
    "            'food':'https://www.kickstarter.com/discover/advanced?category_id=10&sort=newest&seed=2528058&page=1',\n",
    "            'games':'https://www.kickstarter.com/discover/advanced?category_id=12&sort=newest&seed=2528058&page=1',\n",
    "            'journalism':'https://www.kickstarter.com/discover/advanced?category_id=13&sort=newest&seed=2528058&page=1',\n",
    "            'music':'https://www.kickstarter.com/discover/advanced?category_id=14&sort=newest&seed=2528058&page=1',\n",
    "            'photography':'https://www.kickstarter.com/discover/advanced?category_id=15&sort=newest&seed=2528058&page=1',\n",
    "            'publishing':'https://www.kickstarter.com/discover/advanced?category_id=18&sort=newest&seed=2528058&page=1',\n",
    "            'technology':'https://www.kickstarter.com/discover/advanced?category_id=16&sort=newest&seed=2528058&page=1',\n",
    "            'theater':'https://www.kickstarter.com/discover/advanced?category_id=17&sort=newest&seed=2528058&page=1'}    "
   ]
  },
  {
   "cell_type": "code",
   "execution_count": 34,
   "metadata": {
    "collapsed": false
   },
   "outputs": [
    {
     "name": "stdout",
     "output_type": "stream",
     "text": [
      "CPU times: user 14.6 s, sys: 1.09 s, total: 15.7 s\n",
      "Wall time: 20min 35s\n"
     ]
    }
   ],
   "source": [
    "%%time\n",
    "#final_urls = []\n",
    "for category in category_dict.keys():\n",
    "    final_urls += get_data(get_url_list(category_dict[category], 1, 201))"
   ]
  },
  {
   "cell_type": "code",
   "execution_count": 39,
   "metadata": {
    "collapsed": false
   },
   "outputs": [],
   "source": [
    "final_list = list(set(final_urls))\n",
    "\n",
    "csvfile = 'final_project_urls.txt'\n",
    "\n",
    "with open(csvfile, 'w') as output:\n",
    "    writer = csv.writer(output, lineterminator = '\\n')\n",
    "    for val in final_list:\n",
    "        writer.writerow([val])  "
   ]
  },
  {
   "cell_type": "code",
   "execution_count": 40,
   "metadata": {
    "collapsed": false
   },
   "outputs": [],
   "source": [
    "#sanity check\n",
    "from collections import Counter\n",
    "counts = Counter(final_urls)"
   ]
  },
  {
   "cell_type": "code",
   "execution_count": null,
   "metadata": {
    "collapsed": true
   },
   "outputs": [],
   "source": []
  }
 ],
 "metadata": {
  "anaconda-cloud": {},
  "kernelspec": {
   "display_name": "Python [default]",
   "language": "python",
   "name": "python3"
  },
  "language_info": {
   "codemirror_mode": {
    "name": "ipython",
    "version": 3
   },
   "file_extension": ".py",
   "mimetype": "text/x-python",
   "name": "python",
   "nbconvert_exporter": "python",
   "pygments_lexer": "ipython3",
   "version": "3.5.4"
  }
 },
 "nbformat": 4,
 "nbformat_minor": 2
}
